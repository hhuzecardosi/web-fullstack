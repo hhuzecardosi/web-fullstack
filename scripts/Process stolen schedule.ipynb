{
 "cells": [
  {
   "cell_type": "code",
   "execution_count": 10,
   "id": "a1439f4d",
   "metadata": {},
   "outputs": [],
   "source": [
    "import json\n",
    "from datetime import datetime"
   ]
  },
  {
   "cell_type": "code",
   "execution_count": 3,
   "id": "4047054e",
   "metadata": {},
   "outputs": [],
   "source": [
    "f1 = open('nba_schedule.json')\n",
    "data = json.load(f1)"
   ]
  },
  {
   "cell_type": "code",
   "execution_count": 6,
   "id": "ba0e1aeb",
   "metadata": {},
   "outputs": [
    {
     "data": {
      "text/plain": [
       "{'version': 1,\n",
       " 'request': 'http://nba.cloud/league/00/2022-23/scheduleleaguev2?Format=json',\n",
       " 'time': '2022-11-10T09:46:50.465Z'}"
      ]
     },
     "execution_count": 6,
     "metadata": {},
     "output_type": "execute_result"
    }
   ],
   "source": [
    "data['meta']"
   ]
  },
  {
   "cell_type": "code",
   "execution_count": 9,
   "id": "1d6318d2",
   "metadata": {},
   "outputs": [],
   "source": [
    "dates = data['leagueSchedule']['gameDates']\n",
    "games = []\n",
    "for date in dates:\n",
    "    for game in date['games']:\n",
    "        games.append({\n",
    "            'external_id' : game['gameId'],\n",
    "            'date': date['gameDate'],\n",
    "            'h_team': game['homeTeam']['teamId'],\n",
    "            'v_team': game['awayTeam']['teamId'],\n",
    "            'status': game['gameStatus']\n",
    "        })\n",
    "\n",
    "# Serializing json\n",
    "json_object = json.dumps({'games' : games}, indent=4)\n",
    " \n",
    "# Writing to sample.json\n",
    "with open(\"processed_schedule.json\", \"w\") as outfile:\n",
    "    outfile.write(json_object)\n"
   ]
  },
  {
   "cell_type": "code",
   "execution_count": 18,
   "id": "41411280",
   "metadata": {},
   "outputs": [
    {
     "name": "stdout",
     "output_type": "stream",
     "text": [
      "2022-09-30 00:00:00\n",
      "2022-11-10 16:54:12.235363\n",
      "-42 days, 7:05:47.764637\n",
      "-41.70430827966435\n",
      "-1 day, 7:05:47.764637\n",
      "-0.7043082796643518\n",
      "0:00:00.000088\n",
      "1.0185185185185184e-09\n"
     ]
    }
   ],
   "source": [
    "g_date = datetime.strptime('9/30/2022', '%m/%d/%Y')\n",
    "o_date = datetime.strptime('11/10/2022', '%m/%d/%Y')\n",
    "print(g_date)\n",
    "now = datetime.now()\n",
    "now_2 = datetime.now()\n",
    "print(now)\n",
    "diff = g_date - now\n",
    "print(diff)\n",
    "print(diff.total_seconds() / (60*60*24))\n",
    "diff = o_date - now\n",
    "print(diff)\n",
    "print(diff.total_seconds() / (60*60*24))\n",
    "diff = now_2 - now\n",
    "print(diff)\n",
    "print(diff.total_seconds() / (60*60*24))"
   ]
  }
 ],
 "metadata": {
  "kernelspec": {
   "display_name": "Python 3.8.10 64-bit",
   "language": "python",
   "name": "python3"
  },
  "language_info": {
   "codemirror_mode": {
    "name": "ipython",
    "version": 3
   },
   "file_extension": ".py",
   "mimetype": "text/x-python",
   "name": "python",
   "nbconvert_exporter": "python",
   "pygments_lexer": "ipython3",
   "version": "3.8.10"
  },
  "vscode": {
   "interpreter": {
    "hash": "916dbcbb3f70747c44a77c7bcd40155683ae19c65e1c03b4aa3499c5328201f1"
   }
  }
 },
 "nbformat": 4,
 "nbformat_minor": 5
}
